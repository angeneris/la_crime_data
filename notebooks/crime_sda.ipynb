{
 "cells": [
  {
   "cell_type": "markdown",
   "metadata": {},
   "source": [
    "## SDA "
   ]
  },
  {
   "cell_type": "markdown",
   "metadata": {},
   "source": []
  },
  {
   "cell_type": "code",
   "execution_count": null,
   "metadata": {},
   "outputs": [],
   "source": []
  },
  {
   "cell_type": "code",
   "execution_count": 1,
   "metadata": {},
   "outputs": [
    {
     "ename": "NameError",
     "evalue": "name 'crime' is not defined",
     "output_type": "error",
     "traceback": [
      "\u001b[0;31m---------------------------------------------------------------------------\u001b[0m",
      "\u001b[0;31mNameError\u001b[0m                                 Traceback (most recent call last)",
      "Cell \u001b[0;32mIn[1], line 2\u001b[0m\n\u001b[1;32m      1\u001b[0m \u001b[38;5;66;03m# Count the occurrence of each crime type \u001b[39;00m\n\u001b[0;32m----> 2\u001b[0m crime_counts \u001b[38;5;241m=\u001b[39m \u001b[43mcrime\u001b[49m[\u001b[38;5;124m'\u001b[39m\u001b[38;5;124mcrime\u001b[39m\u001b[38;5;124m'\u001b[39m]\u001b[38;5;241m.\u001b[39mvalue_counts()\n\u001b[1;32m      4\u001b[0m \u001b[38;5;66;03m# Plot the Top 10 Crimes\u001b[39;00m\n\u001b[1;32m      5\u001b[0m top_10_crimes \u001b[38;5;241m=\u001b[39m plt\u001b[38;5;241m.\u001b[39mfigure(figsize\u001b[38;5;241m=\u001b[39m(\u001b[38;5;241m10\u001b[39m, \u001b[38;5;241m6\u001b[39m))\n",
      "\u001b[0;31mNameError\u001b[0m: name 'crime' is not defined"
     ]
    }
   ],
   "source": [
    "# Count the occurrence of each crime type \n",
    "crime_counts = crime['crime'].value_counts()\n",
    "\n",
    "# Plot the Top 10 Crimes\n",
    "top_10_crimes = plt.figure(figsize=(10, 6))\n",
    "sns.barplot(x=crime_counts.head(10).values, y=crime_counts.head(10).index, palette='viridis')\n",
    "plt.xlabel('Number of Crimes')\n",
    "plt.ylabel('Crime Type')\n",
    "plt.title('Top 10 Most Common Crimes')\n",
    "plt.show()"
   ]
  },
  {
   "cell_type": "code",
   "execution_count": null,
   "metadata": {},
   "outputs": [],
   "source": []
  }
 ],
 "metadata": {
  "kernelspec": {
   "display_name": "base",
   "language": "python",
   "name": "python3"
  },
  "language_info": {
   "codemirror_mode": {
    "name": "ipython",
    "version": 3
   },
   "file_extension": ".py",
   "mimetype": "text/x-python",
   "name": "python",
   "nbconvert_exporter": "python",
   "pygments_lexer": "ipython3",
   "version": "3.12.2"
  }
 },
 "nbformat": 4,
 "nbformat_minor": 2
}
